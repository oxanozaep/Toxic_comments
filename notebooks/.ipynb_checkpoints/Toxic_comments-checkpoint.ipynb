{
 "cells": [
  {
   "cell_type": "code",
   "execution_count": 1,
   "metadata": {
    "collapsed": true
   },
   "outputs": [],
   "source": [
    "# Hide deprecation warnings\n",
    "import warnings\n",
    "warnings.filterwarnings('ignore')\n",
    "\n",
    "# Common imports\n",
    "import numpy as np\n",
    "import pandas as pd\n",
    "import re, string\n",
    "from itertools import product\n",
    "\n",
    "# Imports for models\n",
    "from sklearn.feature_extraction.text import CountVectorizer\n",
    "from sklearn.naive_bayes import MultinomialNB\n",
    "from sklearn.ensemble import RandomForestClassifier\n",
    "from sklearn.metrics import accuracy_score, roc_auc_score, roc_curve\n",
    "from gensim.models.word2vec import Word2Vec\n",
    "from sklearn.feature_extraction.text import TfidfVectorizer\n",
    "\n",
    "\n",
    "# Make this notebook's output stable across runs\n",
    "np.random.seed(42)\n",
    "\n",
    "# To plot pretty figures\n",
    "%matplotlib inline\n",
    "import matplotlib.pyplot as plt\n",
    "plt.rcParams['axes.labelsize'] = 14\n",
    "plt.rcParams['xtick.labelsize'] = 12\n",
    "plt.rcParams['ytick.labelsize'] = 12\n",
    "\n",
    "# To format floats\n",
    "from IPython.display import display\n",
    "pd.set_option('display.float_format', lambda x: '%.5f' % x)"
   ]
  },
  {
   "cell_type": "code",
   "execution_count": 2,
   "metadata": {
    "collapsed": true
   },
   "outputs": [],
   "source": [
    "#Load all the csv files into Pandas dataframes, properly parsing dates\n",
    "\n",
    "train = pd.read_csv('../data/raw/train.csv')\n",
    "test = pd.read_csv('../data/raw/test.csv')\n",
    "sample_submission = pd.read_csv('../data/raw/sample_submission.csv')\n",
    "\n",
    "train['comment_text'] = train['comment_text'].fillna('nan')\n",
    "test['comment_text'] = test['comment_text'].fillna('nan')"
   ]
  },
  {
   "cell_type": "code",
   "execution_count": 3,
   "metadata": {},
   "outputs": [
    {
     "name": "stdout",
     "output_type": "stream",
     "text": [
      "Train DF:\n",
      "\n",
      "         id                                       comment_text  toxic  \\\n",
      "0  22256635  Nonsense?  kiss off, geek. what I said is true...      1   \n",
      "1  27450690  \"\\n\\n Please do not vandalize pages, as you di...      0   \n",
      "2  54037174  \"\\n\\n \"\"Points of interest\"\" \\n\\nI removed the...      0   \n",
      "3  77493077  Asking some his nationality is a Racial offenc...      0   \n",
      "4  79357270  The reader here is not going by my say so for ...      0   \n",
      "\n",
      "   severe_toxic  obscene  threat  insult  identity_hate  \n",
      "0             0        0       0       0              0  \n",
      "1             0        0       0       0              0  \n",
      "2             0        0       0       0              0  \n",
      "3             0        0       0       0              0  \n",
      "4             0        0       0       0              0  \n",
      "\n"
     ]
    }
   ],
   "source": [
    "print(\"Train DF:\\n\\n{}\\n\".format(train.head()))"
   ]
  },
  {
   "cell_type": "code",
   "execution_count": 4,
   "metadata": {},
   "outputs": [
    {
     "name": "stdout",
     "output_type": "stream",
     "text": [
      "Test DF:\n",
      "\n",
      "         id                                       comment_text\n",
      "0   6044863  ==Orphaned non-free media (Image:41cD1jboEvL. ...\n",
      "1   6102620  ::Kentuckiana is colloquial.  Even though the ...\n",
      "2  14563293  Hello fellow Wikipedians,\\nI have just modifie...\n",
      "3  21086297  AKC Suspensions \\nThe Morning Call - Feb 24, 2...\n",
      "4  22982444                      == [WIKI_LINK: Talk:Celts] ==\n",
      "\n"
     ]
    }
   ],
   "source": [
    "print(\"Test DF:\\n\\n{}\\n\".format(test.head()))"
   ]
  },
  {
   "cell_type": "code",
   "execution_count": 5,
   "metadata": {},
   "outputs": [
    {
     "name": "stdout",
     "output_type": "stream",
     "text": [
      "Train DF:\n",
      "\n",
      "<class 'pandas.core.frame.DataFrame'>\n",
      "RangeIndex: 95851 entries, 0 to 95850\n",
      "Data columns (total 8 columns):\n",
      "id               95851 non-null int64\n",
      "comment_text     95851 non-null object\n",
      "toxic            95851 non-null int64\n",
      "severe_toxic     95851 non-null int64\n",
      "obscene          95851 non-null int64\n",
      "threat           95851 non-null int64\n",
      "insult           95851 non-null int64\n",
      "identity_hate    95851 non-null int64\n",
      "dtypes: int64(7), object(1)\n",
      "memory usage: 5.9+ MB\n",
      "None \n",
      "\n",
      "\n",
      "            toxic  severe_toxic     obscene      threat      insult  \\\n",
      "count 95851.00000   95851.00000 95851.00000 95851.00000 95851.00000   \n",
      "mean      0.09637       0.01007     0.05330     0.00318     0.04971   \n",
      "std       0.29510       0.09983     0.22464     0.05632     0.21735   \n",
      "min       0.00000       0.00000     0.00000     0.00000     0.00000   \n",
      "25%       0.00000       0.00000     0.00000     0.00000     0.00000   \n",
      "50%       0.00000       0.00000     0.00000     0.00000     0.00000   \n",
      "75%       0.00000       0.00000     0.00000     0.00000     0.00000   \n",
      "max       1.00000       1.00000     1.00000     1.00000     1.00000   \n",
      "\n",
      "       identity_hate  \n",
      "count    95851.00000  \n",
      "mean         0.00849  \n",
      "std          0.09176  \n",
      "min          0.00000  \n",
      "25%          0.00000  \n",
      "50%          0.00000  \n",
      "75%          0.00000  \n",
      "max          1.00000   \n",
      "\n",
      "\n",
      "\n",
      "\n",
      "Nulls:\n",
      "\n",
      "id               0\n",
      "comment_text     0\n",
      "toxic            0\n",
      "severe_toxic     0\n",
      "obscene          0\n",
      "threat           0\n",
      "insult           0\n",
      "identity_hate    0\n",
      "dtype: int64\n",
      "\n",
      "\n"
     ]
    }
   ],
   "source": [
    "print(\"Train DF:\\n\")\n",
    "print(train.info(),\"\\n\\n\")\n",
    "print(train.drop('id',axis=1).describe(),\"\\n\\n\")\n",
    "print(\"\\n\\nNulls:\\n\\n{}\\n\\n\".format(train.isnull().sum()))"
   ]
  },
  {
   "cell_type": "code",
   "execution_count": 6,
   "metadata": {
    "scrolled": true
   },
   "outputs": [
    {
     "data": {
      "text/html": [
       "<div>\n",
       "<style>\n",
       "    .dataframe thead tr:only-child th {\n",
       "        text-align: right;\n",
       "    }\n",
       "\n",
       "    .dataframe thead th {\n",
       "        text-align: left;\n",
       "    }\n",
       "\n",
       "    .dataframe tbody tr th {\n",
       "        vertical-align: top;\n",
       "    }\n",
       "</style>\n",
       "<table border=\"1\" class=\"dataframe\">\n",
       "  <thead>\n",
       "    <tr style=\"text-align: right;\">\n",
       "      <th></th>\n",
       "      <th>bestwikiever</th>\n",
       "      <th>bet</th>\n",
       "      <th>beta</th>\n",
       "      <th>beta_distribution</th>\n",
       "      <th>betacommand</th>\n",
       "      <th>betacommandbot</th>\n",
       "      <th>betances</th>\n",
       "      <th>betancourt</th>\n",
       "      <th>betches</th>\n",
       "      <th>beter</th>\n",
       "    </tr>\n",
       "  </thead>\n",
       "  <tbody>\n",
       "    <tr>\n",
       "      <th>0</th>\n",
       "      <td>0</td>\n",
       "      <td>0</td>\n",
       "      <td>0</td>\n",
       "      <td>0</td>\n",
       "      <td>0</td>\n",
       "      <td>0</td>\n",
       "      <td>0</td>\n",
       "      <td>0</td>\n",
       "      <td>0</td>\n",
       "      <td>0</td>\n",
       "    </tr>\n",
       "    <tr>\n",
       "      <th>1</th>\n",
       "      <td>0</td>\n",
       "      <td>0</td>\n",
       "      <td>0</td>\n",
       "      <td>0</td>\n",
       "      <td>0</td>\n",
       "      <td>0</td>\n",
       "      <td>0</td>\n",
       "      <td>0</td>\n",
       "      <td>0</td>\n",
       "      <td>0</td>\n",
       "    </tr>\n",
       "    <tr>\n",
       "      <th>2</th>\n",
       "      <td>0</td>\n",
       "      <td>0</td>\n",
       "      <td>0</td>\n",
       "      <td>0</td>\n",
       "      <td>0</td>\n",
       "      <td>0</td>\n",
       "      <td>0</td>\n",
       "      <td>0</td>\n",
       "      <td>0</td>\n",
       "      <td>0</td>\n",
       "    </tr>\n",
       "    <tr>\n",
       "      <th>3</th>\n",
       "      <td>0</td>\n",
       "      <td>0</td>\n",
       "      <td>0</td>\n",
       "      <td>0</td>\n",
       "      <td>0</td>\n",
       "      <td>0</td>\n",
       "      <td>0</td>\n",
       "      <td>0</td>\n",
       "      <td>0</td>\n",
       "      <td>0</td>\n",
       "    </tr>\n",
       "    <tr>\n",
       "      <th>4</th>\n",
       "      <td>0</td>\n",
       "      <td>0</td>\n",
       "      <td>0</td>\n",
       "      <td>0</td>\n",
       "      <td>0</td>\n",
       "      <td>0</td>\n",
       "      <td>0</td>\n",
       "      <td>0</td>\n",
       "      <td>0</td>\n",
       "      <td>0</td>\n",
       "    </tr>\n",
       "    <tr>\n",
       "      <th>5</th>\n",
       "      <td>0</td>\n",
       "      <td>0</td>\n",
       "      <td>0</td>\n",
       "      <td>0</td>\n",
       "      <td>0</td>\n",
       "      <td>0</td>\n",
       "      <td>0</td>\n",
       "      <td>0</td>\n",
       "      <td>0</td>\n",
       "      <td>0</td>\n",
       "    </tr>\n",
       "    <tr>\n",
       "      <th>6</th>\n",
       "      <td>0</td>\n",
       "      <td>0</td>\n",
       "      <td>0</td>\n",
       "      <td>0</td>\n",
       "      <td>0</td>\n",
       "      <td>0</td>\n",
       "      <td>0</td>\n",
       "      <td>0</td>\n",
       "      <td>0</td>\n",
       "      <td>0</td>\n",
       "    </tr>\n",
       "  </tbody>\n",
       "</table>\n",
       "</div>"
      ],
      "text/plain": [
       "   bestwikiever  bet  beta  beta_distribution  betacommand  betacommandbot  \\\n",
       "0             0    0     0                  0            0               0   \n",
       "1             0    0     0                  0            0               0   \n",
       "2             0    0     0                  0            0               0   \n",
       "3             0    0     0                  0            0               0   \n",
       "4             0    0     0                  0            0               0   \n",
       "5             0    0     0                  0            0               0   \n",
       "6             0    0     0                  0            0               0   \n",
       "\n",
       "   betances  betancourt  betches  beter  \n",
       "0         0           0        0      0  \n",
       "1         0           0        0      0  \n",
       "2         0           0        0      0  \n",
       "3         0           0        0      0  \n",
       "4         0           0        0      0  \n",
       "5         0           0        0      0  \n",
       "6         0           0        0      0  "
      ]
     },
     "execution_count": 6,
     "metadata": {},
     "output_type": "execute_result"
    }
   ],
   "source": [
    "d = train\n",
    "split = 0.7\n",
    "d_train = d[:int(split*len(d))]\n",
    "d_test = d[int((1-split)*len(d)):]\n",
    "\n",
    "vectorizer = CountVectorizer()\n",
    "features = vectorizer.fit_transform(d_train.comment_text)\n",
    "test_features = vectorizer.transform(d_test.comment_text)\n",
    "\n",
    "i = 15000\n",
    "j = 15000\n",
    "\n",
    "#An example of what features have inside\n",
    "\n",
    "words = vectorizer.get_feature_names()[i:i+10]\n",
    "pd.DataFrame(features[j:j+7,i:i+10].todense(), columns=words)"
   ]
  },
  {
   "cell_type": "code",
   "execution_count": 7,
   "metadata": {
    "scrolled": true
   },
   "outputs": [
    {
     "name": "stdout",
     "output_type": "stream",
     "text": [
      "Different words: 112364\n"
     ]
    }
   ],
   "source": [
    "print(\"Different words:\",len(vectorizer.get_feature_names()))"
   ]
  },
  {
   "cell_type": "code",
   "execution_count": 9,
   "metadata": {
    "collapsed": true
   },
   "outputs": [],
   "source": [
    "def performance(y_true, pred, ann=True):\n",
    "    acc = accuracy_score(y_true, pred[:,1]>0.5)\n",
    "    auc = roc_auc_score(y_true, pred[:,1])\n",
    "    fpr, tpr, thr = roc_curve(y_true, pred[:,1])\n",
    "    fig, ax = plt.subplots(nrows=1, ncols=1, figsize=(16, 7))\n",
    "    plt.plot(fpr, tpr, color='royalblue', linewidth=\"3\")\n",
    "    plt.xlabel(\"False positive rate\")\n",
    "    plt.ylabel(\"True positive rate\")\n",
    "    if ann:\n",
    "        ax.annotate(\"Acc: %0.2f\" % acc, (0.2,0.7), size=14)\n",
    "        ax.annotate(\"AUC: %0.2f\" % auc, (0.2,0.6), size=14)\n",
    "        \n",
    "def metric(y_true, y_pred):\n",
    "    assert y_true.shape == y_pred.shape\n",
    "    columns = y_true.shape[1]\n",
    "    column_losses = []\n",
    "    for i in range(0, columns):\n",
    "        column_losses.append(log_loss(y_true[:, i], y_pred[:, i]))\n",
    "    return np.array(column_losses).mean()"
   ]
  },
  {
   "cell_type": "markdown",
   "metadata": {},
   "source": [
    "## NAÏVE BAYES CLASSIFIER"
   ]
  },
  {
   "cell_type": "code",
   "execution_count": 12,
   "metadata": {},
   "outputs": [
    {
     "data": {
      "image/png": "[encoded data removed]",
      "text/plain": [
       "<matplotlib.figure.Figure at 0x7f62c17ba978>"
      ]
     },
     "metadata": {},
     "output_type": "display_data"
    }
   ],
   "source": [
    "model1 = MultinomialNB()\n",
    "model1.fit(features, d_train.toxic)\n",
    "pred1 = model1.predict_proba(test_features)\n",
    "\n",
    "performance(d_test.toxic, pred1)"
   ]
  },
  {
   "cell_type": "code",
   "execution_count": 237,
   "metadata": {},
   "outputs": [
    {
     "name": "stdout",
     "output_type": "stream",
     "text": [
      "1\n"
     ]
    }
   ],
   "source": [
    "comment = \"What a stupid comment is the one you made you dumbass\"\n",
    "print(model1.predict(vectorizer.transform([comment]))[0])"
   ]
  },
  {
   "cell_type": "code",
   "execution_count": 238,
   "metadata": {},
   "outputs": [
    {
     "name": "stdout",
     "output_type": "stream",
     "text": [
      "0\n"
     ]
    }
   ],
   "source": [
    "comment = \"Great comment, thanks for contributing\"\n",
    "print(model1.predict(vectorizer.transform([comment]))[0])"
   ]
  },
  {
   "cell_type": "markdown",
   "metadata": {},
   "source": [
    "Seems to be working fine!"
   ]
  },
  {
   "cell_type": "markdown",
   "metadata": {},
   "source": [
    "## Bag-of-words features with the tf-idf algorithm"
   ]
  },
  {
   "cell_type": "code",
   "execution_count": 239,
   "metadata": {},
   "outputs": [
    {
     "data": {
      "image/png": "[encoded data removed]",
      "text/plain": [
       "<matplotlib.figure.Figure at 0x7fc0d7504dd8>"
      ]
     },
     "metadata": {},
     "output_type": "display_data"
    }
   ],
   "source": [
    "vectorizer = TfidfVectorizer()\n",
    "features = vectorizer.fit_transform(d_train.comment_text)\n",
    "\n",
    "model2 = MultinomialNB()\n",
    "model2.fit(features, d_train.toxic)\n",
    "\n",
    "pred2 = model2.predict_proba(vectorizer.transform(d_test.comment_text))\n",
    "performance(d_test.toxic, pred2)"
   ]
  },
  {
   "cell_type": "markdown",
   "metadata": {},
   "source": [
    "## Optimizing model parameters"
   ]
  },
  {
   "cell_type": "code",
   "execution_count": 240,
   "metadata": {
    "collapsed": true
   },
   "outputs": [],
   "source": [
    "def build_model(Tfid = True, max_features=None, min_df=1, nb_alpha=1.0):\n",
    "    if Tfid:\n",
    "        vectorizer = TfidfVectorizer(max_features=max_features, min_df=min_df)\n",
    "    else:\n",
    "        vectorizer = CountVectorizer(max_features=max_features, min_df=min_df)\n",
    "    features = vectorizer.fit_transform(d_train.comment_text)\n",
    "    model = MultinomialNB(alpha=nb_alpha)\n",
    "    model.fit(features, d_train.toxic)\n",
    "    pred = model.predict_proba(vectorizer.transform(d_test.comment_text))\n",
    "    return {\n",
    "        \"Tfid\": Tfid,\n",
    "        \"max_features\": max_features,\n",
    "        \"min_df\": min_df,\n",
    "        \"nb_alpha\": nb_alpha,\n",
    "        \"auc\": roc_auc_score(d_test.toxic, pred[:,1])\n",
    "    }"
   ]
  },
  {
   "cell_type": "code",
   "execution_count": 242,
   "metadata": {},
   "outputs": [
    {
     "name": "stdout",
     "output_type": "stream",
     "text": [
      "{'Tfid': True, 'max_features': 10000, 'min_df': 1, 'nb_alpha': 0.01, 'auc': 0.96020331287636485}\n",
      "{'Tfid': True, 'max_features': 10000, 'min_df': 1, 'nb_alpha': 0.1, 'auc': 0.96329292240174036}\n",
      "{'Tfid': True, 'max_features': 10000, 'min_df': 1, 'nb_alpha': 1.0, 'auc': 0.95563130611843949}\n",
      "{'Tfid': True, 'max_features': 10000, 'min_df': 2, 'nb_alpha': 0.01, 'auc': 0.96016795518452269}\n",
      "{'Tfid': True, 'max_features': 10000, 'min_df': 2, 'nb_alpha': 0.1, 'auc': 0.96325945274198677}\n",
      "{'Tfid': True, 'max_features': 10000, 'min_df': 2, 'nb_alpha': 1.0, 'auc': 0.95558496351262701}\n",
      "{'Tfid': True, 'max_features': 10000, 'min_df': 3, 'nb_alpha': 0.01, 'auc': 0.96014540127067116}\n",
      "{'Tfid': True, 'max_features': 10000, 'min_df': 3, 'nb_alpha': 0.1, 'auc': 0.96325027132135488}\n",
      "{'Tfid': True, 'max_features': 10000, 'min_df': 3, 'nb_alpha': 1.0, 'auc': 0.95556022952373154}\n",
      "{'Tfid': True, 'max_features': 30000, 'min_df': 1, 'nb_alpha': 0.01, 'auc': 0.96601186152957463}\n",
      "{'Tfid': True, 'max_features': 30000, 'min_df': 1, 'nb_alpha': 0.1, 'auc': 0.96856204978392213}\n",
      "{'Tfid': True, 'max_features': 30000, 'min_df': 1, 'nb_alpha': 1.0, 'auc': 0.9274892130796254}\n",
      "{'Tfid': True, 'max_features': 30000, 'min_df': 2, 'nb_alpha': 0.01, 'auc': 0.96589443976727396}\n",
      "{'Tfid': True, 'max_features': 30000, 'min_df': 2, 'nb_alpha': 0.1, 'auc': 0.96851190293434897}\n",
      "{'Tfid': True, 'max_features': 30000, 'min_df': 2, 'nb_alpha': 1.0, 'auc': 0.92762848170441192}\n",
      "{'Tfid': True, 'max_features': 30000, 'min_df': 3, 'nb_alpha': 0.01, 'auc': 0.96608529240038776}\n",
      "{'Tfid': True, 'max_features': 30000, 'min_df': 3, 'nb_alpha': 0.1, 'auc': 0.96860878946568263}\n",
      "{'Tfid': True, 'max_features': 30000, 'min_df': 3, 'nb_alpha': 1.0, 'auc': 0.92808747844437989}\n",
      "{'Tfid': True, 'max_features': 50000, 'min_df': 1, 'nb_alpha': 0.01, 'auc': 0.96812303877304451}\n",
      "{'Tfid': True, 'max_features': 50000, 'min_df': 1, 'nb_alpha': 0.1, 'auc': 0.96809884531979462}\n",
      "{'Tfid': True, 'max_features': 50000, 'min_df': 1, 'nb_alpha': 1.0, 'auc': 0.90505210488230881}\n",
      "{'Tfid': True, 'max_features': 50000, 'min_df': 2, 'nb_alpha': 0.01, 'auc': 0.96777097330500661}\n",
      "{'Tfid': True, 'max_features': 50000, 'min_df': 2, 'nb_alpha': 0.1, 'auc': 0.9683766370912974}\n",
      "{'Tfid': True, 'max_features': 50000, 'min_df': 2, 'nb_alpha': 1.0, 'auc': 0.91072788542826943}\n",
      "{'Tfid': True, 'max_features': 50000, 'min_df': 3, 'nb_alpha': 0.01, 'auc': 0.96636024571930679}\n",
      "{'Tfid': True, 'max_features': 50000, 'min_df': 3, 'nb_alpha': 0.1, 'auc': 0.96873717564771111}\n",
      "{'Tfid': True, 'max_features': 50000, 'min_df': 3, 'nb_alpha': 1.0, 'auc': 0.92600798145711682}\n",
      "{'Tfid': True, 'max_features': None, 'min_df': 1, 'nb_alpha': 0.01, 'auc': 0.97125034745746563}\n",
      "{'Tfid': True, 'max_features': None, 'min_df': 1, 'nb_alpha': 0.1, 'auc': 0.96214450446823796}\n",
      "{'Tfid': True, 'max_features': None, 'min_df': 1, 'nb_alpha': 1.0, 'auc': 0.86638408564687397}\n",
      "{'Tfid': True, 'max_features': None, 'min_df': 2, 'nb_alpha': 0.01, 'auc': 0.96777097330500661}\n",
      "{'Tfid': True, 'max_features': None, 'min_df': 2, 'nb_alpha': 0.1, 'auc': 0.9683766370912974}\n",
      "{'Tfid': True, 'max_features': None, 'min_df': 2, 'nb_alpha': 1.0, 'auc': 0.91072788542826943}\n",
      "{'Tfid': True, 'max_features': None, 'min_df': 3, 'nb_alpha': 0.01, 'auc': 0.96636024571930679}\n",
      "{'Tfid': True, 'max_features': None, 'min_df': 3, 'nb_alpha': 0.1, 'auc': 0.96873717564771111}\n",
      "{'Tfid': True, 'max_features': None, 'min_df': 3, 'nb_alpha': 1.0, 'auc': 0.92600798145711682}\n",
      "{'Tfid': False, 'max_features': 10000, 'min_df': 1, 'nb_alpha': 0.01, 'auc': 0.93085484802897966}\n",
      "{'Tfid': False, 'max_features': 10000, 'min_df': 1, 'nb_alpha': 0.1, 'auc': 0.93177336923565957}\n",
      "{'Tfid': False, 'max_features': 10000, 'min_df': 1, 'nb_alpha': 1.0, 'auc': 0.93176519715646988}\n",
      "{'Tfid': False, 'max_features': 10000, 'min_df': 2, 'nb_alpha': 0.01, 'auc': 0.93239711406737991}\n",
      "{'Tfid': False, 'max_features': 10000, 'min_df': 2, 'nb_alpha': 0.1, 'auc': 0.93338102599736927}\n",
      "{'Tfid': False, 'max_features': 10000, 'min_df': 2, 'nb_alpha': 1.0, 'auc': 0.93348767803524568}\n",
      "{'Tfid': False, 'max_features': 10000, 'min_df': 3, 'nb_alpha': 0.01, 'auc': 0.93326553709831273}\n",
      "{'Tfid': False, 'max_features': 10000, 'min_df': 3, 'nb_alpha': 0.1, 'auc': 0.93436716795711861}\n",
      "{'Tfid': False, 'max_features': 10000, 'min_df': 3, 'nb_alpha': 1.0, 'auc': 0.93454540126042407}\n",
      "{'Tfid': False, 'max_features': 30000, 'min_df': 1, 'nb_alpha': 0.01, 'auc': 0.94039836477976302}\n",
      "{'Tfid': False, 'max_features': 30000, 'min_df': 1, 'nb_alpha': 0.1, 'auc': 0.9424356013581382}\n",
      "{'Tfid': False, 'max_features': 30000, 'min_df': 1, 'nb_alpha': 1.0, 'auc': 0.93500893747510205}\n",
      "{'Tfid': False, 'max_features': 30000, 'min_df': 2, 'nb_alpha': 0.01, 'auc': 0.94132541159131544}\n",
      "{'Tfid': False, 'max_features': 30000, 'min_df': 2, 'nb_alpha': 0.1, 'auc': 0.94362418928779512}\n",
      "{'Tfid': False, 'max_features': 30000, 'min_df': 2, 'nb_alpha': 1.0, 'auc': 0.93656112272686354}\n",
      "{'Tfid': False, 'max_features': 30000, 'min_df': 3, 'nb_alpha': 0.01, 'auc': 0.94226856431567863}\n",
      "{'Tfid': False, 'max_features': 30000, 'min_df': 3, 'nb_alpha': 0.1, 'auc': 0.94451473713437739}\n",
      "{'Tfid': False, 'max_features': 30000, 'min_df': 3, 'nb_alpha': 1.0, 'auc': 0.93751741097976737}\n",
      "{'Tfid': False, 'max_features': 50000, 'min_df': 1, 'nb_alpha': 0.01, 'auc': 0.94422779852627692}\n",
      "{'Tfid': False, 'max_features': 50000, 'min_df': 1, 'nb_alpha': 0.1, 'auc': 0.94603236653153422}\n",
      "{'Tfid': False, 'max_features': 50000, 'min_df': 1, 'nb_alpha': 1.0, 'auc': 0.92970649542087525}\n",
      "{'Tfid': False, 'max_features': 50000, 'min_df': 2, 'nb_alpha': 0.01, 'auc': 0.94411971829587771}\n",
      "{'Tfid': False, 'max_features': 50000, 'min_df': 2, 'nb_alpha': 0.1, 'auc': 0.94618887849958888}\n",
      "{'Tfid': False, 'max_features': 50000, 'min_df': 2, 'nb_alpha': 1.0, 'auc': 0.93272954092755933}\n",
      "{'Tfid': False, 'max_features': 50000, 'min_df': 3, 'nb_alpha': 0.01, 'auc': 0.94264544062602118}\n",
      "{'Tfid': False, 'max_features': 50000, 'min_df': 3, 'nb_alpha': 0.1, 'auc': 0.94492011837423218}\n",
      "{'Tfid': False, 'max_features': 50000, 'min_df': 3, 'nb_alpha': 1.0, 'auc': 0.93721966293964776}\n",
      "{'Tfid': False, 'max_features': None, 'min_df': 1, 'nb_alpha': 0.01, 'auc': 0.95072790105512939}\n",
      "{'Tfid': False, 'max_features': None, 'min_df': 1, 'nb_alpha': 0.1, 'auc': 0.95019426556493214}\n",
      "{'Tfid': False, 'max_features': None, 'min_df': 1, 'nb_alpha': 1.0, 'auc': 0.90819223783896319}\n",
      "{'Tfid': False, 'max_features': None, 'min_df': 2, 'nb_alpha': 0.01, 'auc': 0.94411971829587771}\n",
      "{'Tfid': False, 'max_features': None, 'min_df': 2, 'nb_alpha': 0.1, 'auc': 0.94618887849958888}\n",
      "{'Tfid': False, 'max_features': None, 'min_df': 2, 'nb_alpha': 1.0, 'auc': 0.93272954092755933}\n",
      "{'Tfid': False, 'max_features': None, 'min_df': 3, 'nb_alpha': 0.01, 'auc': 0.94264544062602118}\n",
      "{'Tfid': False, 'max_features': None, 'min_df': 3, 'nb_alpha': 0.1, 'auc': 0.94492011837423218}\n",
      "{'Tfid': False, 'max_features': None, 'min_df': 3, 'nb_alpha': 1.0, 'auc': 0.93721966293964776}\n"
     ]
    }
   ],
   "source": [
    "param_values = {\n",
    "  \"Tfid\": [True,False],\n",
    "  \"max_features\": [10000, 30000, 50000, None],\n",
    "  \"min_df\": [1,2,3],\n",
    "  \"nb_alpha\": [0.01, 0.1, 1.0]\n",
    "}\n",
    "\n",
    "results = []\n",
    "max_auc = 0\n",
    "\n",
    "for p in product(*param_values.values()):\n",
    "    res = build_model(**dict(zip(param_values.keys(), p)))\n",
    "    results.append(res)\n",
    "    if res.get('auc')>max_auc:\n",
    "        max_auc = res.get('auc')\n",
    "        Tfid_opt = res.get('Tfid')\n",
    "        max_features_opt = res.get('max_features')\n",
    "        min_df_opt = res.get('min_df')\n",
    "        nb_alpha_opt = res.get('nb_alpha')\n",
    "    print(res)"
   ]
  },
  {
   "cell_type": "markdown",
   "metadata": {},
   "source": [
    "Let's see how the optimized model works"
   ]
  },
  {
   "cell_type": "code",
   "execution_count": 244,
   "metadata": {},
   "outputs": [
    {
     "data": {
      "image/png": "[encoded data removed]",
      "text/plain": [
       "<matplotlib.figure.Figure at 0x7fc0e77de0b8>"
      ]
     },
     "metadata": {},
     "output_type": "display_data"
    }
   ],
   "source": [
    "if Tfid_opt:\n",
    "    vectorizer = TfidfVectorizer(max_features=max_features_opt, min_df=min_df_opt)\n",
    "else:\n",
    "    vectorizer = CountVectorizer(max_features=max_features, min_df=min_df)\n",
    "    \n",
    "features = vectorizer.fit_transform(d_train.comment_text)\n",
    "\n",
    "model2_opt = MultinomialNB(alpha=nb_alpha_opt)\n",
    "model2_opt.fit(features, d_train.toxic)\n",
    "\n",
    "pred2_opt = model2_opt.predict_proba(vectorizer.transform(d_test.comment_text))\n",
    "performance(d_test.toxic, pred2_opt)"
   ]
  },
  {
   "cell_type": "code",
   "execution_count": 245,
   "metadata": {},
   "outputs": [
    {
     "data": {
      "text/plain": [
       "0.97125034745746563"
      ]
     },
     "execution_count": 245,
     "metadata": {},
     "output_type": "execute_result"
    }
   ],
   "source": [
    "roc_auc_score(d_test.toxic, pred2_opt[:,1])"
   ]
  },
  {
   "cell_type": "markdown",
   "metadata": {},
   "source": [
    "## Word2vec"
   ]
  },
  {
   "cell_type": "code",
   "execution_count": 246,
   "metadata": {
    "collapsed": true
   },
   "outputs": [],
   "source": [
    "stop_words = set(['all', \"she'll\", \"don't\", 'being', 'over', 'through', \n",
    "'yourselves', 'its', 'before', \"he's\", \"when's\", \"we've\", 'had', 'should',\n",
    "\"he'd\", 'to', 'only', \"there's\", 'those', 'under', 'ours', 'has', \n",
    "\"haven't\", 'do', 'them', 'his', \"they'll\", 'very', \"who's\", \"they'd\", \n",
    "'cannot', \"you've\", 'they', 'not', 'during', 'yourself', 'him', 'nor', \n",
    "\"we'll\", 'did', \"they've\", 'this', 'she', 'each', \"won't\", 'where', \n",
    "\"mustn't\", \"isn't\", \"i'll\", \"why's\", 'because', \"you'd\", 'doing', 'some', \n",
    "'up', 'are', 'further', 'ourselves', 'out', 'what', 'for', 'while', \n",
    "\"wasn't\", 'does', \"shouldn't\", 'above', 'between', 'be', 'we', 'who', \n",
    "\"you're\", 'were', 'here', 'hers', \"aren't\", 'by', 'both', 'about', 'would', \n",
    "'of', 'could', 'against', \"i'd\", \"weren't\", \"i'm\", 'or', \"can't\", 'own', \n",
    "'into', 'whom', 'down', \"hadn't\", \"couldn't\", 'your', \"doesn't\", 'from', \n",
    "\"how's\", 'her', 'their', \"it's\", 'there', 'been', 'why', 'few', 'too', \n",
    "'themselves', 'was', 'until', 'more', 'himself', \"where's\", \"i've\", 'with', \n",
    "\"didn't\", \"what's\", 'but', 'herself', 'than', \"here's\", 'he', 'me', \n",
    "\"they're\", 'myself', 'these', \"hasn't\", 'below', 'ought', 'theirs', 'my', \n",
    "\"wouldn't\", \"we'd\", 'and', 'then', 'is', 'am', 'it', 'an', 'as', 'itself', \n",
    "'at', 'have', 'in', 'any', 'if', 'again', 'no', 'that', 'when', 'same', \n",
    "'how', 'other', 'which', 'you', \"shan't\", 'our', 'after', \"let's\", 'most', \n",
    "'such', 'on', \"he'll\", 'a', 'off', 'i', \"she'd\", 'yours', \"you'll\", 'so', \n",
    "\"we're\", \"she's\", 'the', \"that's\", 'having', 'once'])\n",
    "\n",
    "def tokenize(docs):\n",
    "    pattern = re.compile('[\\W_]+', re.UNICODE)\n",
    "    sentences = []\n",
    "    for d in docs:\n",
    "        sentence = d.lower().split(\" \")\n",
    "        sentence = [pattern.sub('', w) for w in sentence]\n",
    "        sentences.append( [w for w in sentence if w not in stop_words] )\n",
    "    return sentences\n",
    "\n",
    "def featurize_w2v(model, sentences):\n",
    "    f = np.zeros((len(sentences), model.vector_size))\n",
    "    for i,s in enumerate(sentences):\n",
    "        for w in s:\n",
    "            try:\n",
    "                vec = model[w]\n",
    "            except KeyError:\n",
    "                continue\n",
    "            f[i,:] = f[i,:] + vec\n",
    "        f[i,:] = f[i,:] / len(s)\n",
    "    return f\n",
    "\n",
    "def delete_nans(features):\n",
    "    rows_to_delete = []\n",
    "    for i in range(len(features)):\n",
    "        if np.isnan(features[i].sum()):\n",
    "            rows_to_delete.append(i)\n",
    "    return rows_to_delete"
   ]
  },
  {
   "cell_type": "code",
   "execution_count": 247,
   "metadata": {
    "collapsed": true
   },
   "outputs": [],
   "source": [
    "sentences = tokenize(d_train.comment_text)\n",
    "model = Word2Vec(sentences, size=500, window=5, min_count=6, sample=1e-3, workers=2)\n",
    "model.init_sims(replace=True)\n",
    "\n",
    "features_w2v = featurize_w2v(model, sentences)\n",
    "\n",
    "rows_to_delete = delete_nans(features_w2v)\n",
    "features_w2v = np.delete(features_w2v, rows_to_delete, 0)\n",
    "\n",
    "model3 = RandomForestClassifier(n_estimators=600, n_jobs=-1, max_features=\"log2\")\n",
    "model3.fit(features_w2v, d_train.toxic.drop(d_train.index[rows_to_delete]))\n",
    "\n",
    "test_sentences = tokenize(d_test.comment_text)\n",
    "test_features_w2v = featurize_w2v(model, test_sentences)"
   ]
  },
  {
   "cell_type": "code",
   "execution_count": 248,
   "metadata": {
    "collapsed": true
   },
   "outputs": [],
   "source": [
    "rows_to_delete = delete_nans(test_features_w2v)\n",
    "test_features_w2v = np.delete(test_features_w2v, rows_to_delete, 0)"
   ]
  },
  {
   "cell_type": "code",
   "execution_count": 249,
   "metadata": {},
   "outputs": [
    {
     "data": {
      "image/png": "[encoded data removed]",
      "text/plain": [
       "<matplotlib.figure.Figure at 0x7fc0e06017f0>"
      ]
     },
     "metadata": {},
     "output_type": "display_data"
    }
   ],
   "source": [
    "pred3 = model3.predict_proba(test_features_w2v)\n",
    "performance(d_test.toxic.drop(d_test.index[rows_to_delete]), pred3)"
   ]
  },
  {
   "cell_type": "code",
   "execution_count": 250,
   "metadata": {},
   "outputs": [
    {
     "data": {
      "text/plain": [
       "0.97987557099104183"
      ]
     },
     "execution_count": 250,
     "metadata": {},
     "output_type": "execute_result"
    }
   ],
   "source": [
    "roc_auc_score(d_test.toxic.drop(d_test.index[rows_to_delete]), pred3[:,1])"
   ]
  },
  {
   "cell_type": "markdown",
   "metadata": {},
   "source": [
    "## Final prediction"
   ]
  },
  {
   "cell_type": "code",
   "execution_count": 215,
   "metadata": {
    "collapsed": true
   },
   "outputs": [],
   "source": [
    "labels = ['toxic', 'severe_toxic', 'obscene', 'threat', 'insult', 'identity_hate']\n",
    "preds = np.zeros((len(test), len(labels)))"
   ]
  },
  {
   "cell_type": "code",
   "execution_count": 218,
   "metadata": {},
   "outputs": [
    {
     "name": "stdout",
     "output_type": "stream",
     "text": [
      "1/6 labels fitted\n",
      "2/6 labels fitted\n",
      "3/6 labels fitted\n",
      "4/6 labels fitted\n",
      "5/6 labels fitted\n",
      "6/6 labels fitted\n"
     ]
    }
   ],
   "source": [
    "sentences = tokenize(train.comment_text)\n",
    "model_w2v = Word2Vec(sentences, size=500, window=5, min_count=6, sample=1e-3, workers=2)\n",
    "model_w2v.init_sims(replace=True)\n",
    "features_w2v = featurize_w2v(model_w2v, sentences)\n",
    "train_rows_to_delete = delete_nans(features_w2v)\n",
    "features_w2v = np.delete(features_w2v, train_rows_to_delete, 0)\n",
    "\n",
    "for i, label in enumerate(labels):\n",
    "    model_rfc = RandomForestClassifier(n_estimators=600, n_jobs=-1, max_features=\"log2\")\n",
    "    model_rfc.fit(features_w2v, train[label].drop(train.index[train_rows_to_delete]))\n",
    "\n",
    "    test_sentences = tokenize(test.comment_text.astype('str'))\n",
    "    test_features_w2v = featurize_w2v(model_w2v, test_sentences)\n",
    "    np.nan_to_num(test_features_w2v,copy=False)\n",
    "    \n",
    "    preds[:,i] = model_rfc.predict_proba(test_features_w2v)[:,1]\n",
    "    \n",
    "    print('{}/{} labels fitted'.format(i+1,len(labels)))"
   ]
  },
  {
   "cell_type": "code",
   "execution_count": 219,
   "metadata": {
    "collapsed": true
   },
   "outputs": [],
   "source": [
    "subm_id = pd.DataFrame({'id': sample_submission[\"id\"]})\n",
    "submission = pd.concat([subm_id, pd.DataFrame(preds, columns = labels)], axis=1)\n",
    "submission.to_csv('../data/processed/submission.csv', index=False)"
   ]
  }
 ],
 "metadata": {
  "kernelspec": {
   "display_name": "Python 3",
   "language": "python",
   "name": "python3"
  },
  "language_info": {
   "codemirror_mode": {
    "name": "ipython",
    "version": 3
   },
   "file_extension": ".py",
   "mimetype": "text/x-python",
   "name": "python",
   "nbconvert_exporter": "python",
   "pygments_lexer": "ipython3",
   "version": "3.6.1"
  }
 },
 "nbformat": 4,
 "nbformat_minor": 2
}
